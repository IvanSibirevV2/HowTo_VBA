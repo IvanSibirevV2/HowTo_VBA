{
 "cells": [
  {
   "cell_type": "markdown",
   "metadata": {},
   "source": [
    "### VisualBasicScript\n",
    "Литература: <br/>\n",
    "- <a href=\"http://vbhack.ru/page/3\">vbhack.ru [1-3 уроки]</a><br/>\n",
    "- <a href=\"http://vbhack.ru/page/2\">vbhack.ru [3-11 уроки]</a><br/>\n",
    "- <a href=\"http://vbhack.ru/page/1\">vbhack.ru [12-18 уроки]</a><br/>\n",
    "\n",
    "Итак, это движок скриптов основаных OC.Windows и ЯП.VisualBasic.<br/>\n",
    "Кодить можно в файлах *.vbs. <br/>\n",
    "- Rem - комментарий<br/>\n",
    "- ' - комментарий<br/>\n",
    "- \" - кавычка<br/>\n",
    "- Dim a 'Создание переменных<br/>"
   ]
  },
  {
   "cell_type": "markdown",
   "metadata": {},
   "source": [
    "- MsgBox  стандартный вывод сообщений<br/>\n",
    "<div style=\"background: #ddffdd\">\n",
    "Dim a, b, c, d<br/>\n",
    "a = 10<br/>\n",
    "b = 20<br/>\n",
    "c = 40<br/>\n",
    "d = \"Привет мир\"<br/>\n",
    "MsgBox a:MsgBox b:MsgBox c:MsgBox d<br/>\n",
    "'''''''''''''''''''''''''''''''''''''''\n",
    "MsgBox d<br/>\n",
    "MsgBox a<br/>\n",
    "MsgBox b<br/>\n",
    "MsgBox c<br/>\n",
    "MsgBox d<br/>\n",
    "    </div>"
   ]
  },
  {
   "cell_type": "markdown",
   "metadata": {},
   "source": [
    "- MsgBox навороченный вывод сообщений<br/> \n",
    "- vbCrLf - спец символ перехода на новую строку\n",
    "- vbTab - спец символ отступа\n",
    "<div style=\"background: #ddffdd\">\n",
    "MsgBox \"Привет мир\"<br/>\n",
    "MsgBox _<br/>\n",
    "&nbsp;&nbsp;&nbsp;&nbsp;\"Привет мир\" & vbCrLf &_<br/>\n",
    "&nbsp;&nbsp;&nbsp;&nbsp;\"Символом <_> переношу инструкции на другую строку\"& vbCrLf & _<br/>\n",
    "&nbsp;&nbsp;&nbsp;&nbsp;\" \"\"А теперь экранируем кавычки\"\" \"& vbCrLf & _<br/>\n",
    "\"!!!\"&vbTab&\"!!!\"<br/>\n",
    "</div>"
   ]
  },
  {
   "cell_type": "markdown",
   "metadata": {},
   "source": [
    "- Время ветвлений<br/>\n",
    "\n",
    "<div style=\"background: #ddffdd\">\n",
    "Dim a<br/>\n",
    "a = 10<br/>\n",
    "if a = 10 then MsgBox \"a = 10\"<br/>    \n",
    "</div><br/>\n",
    "\n",
    "<div style=\"background: #ddffdd\">\n",
    "Dim a<br/>\n",
    "a = 20<br/>\n",
    "if a = 10 then<br/>\n",
    "&nbsp;&nbsp;&nbsp;&nbsp;MsgBox \"a = 10\"<br/>\n",
    "else<br/>\n",
    "&nbsp;&nbsp;&nbsp;&nbsp;MsgBox \"a != 10\"<br/>\n",
    "end if<br/>\n",
    "</div><br/>\n",
    "\n",
    "<div style=\"background: #ddffdd\">\n",
    "Dim a<br/>\n",
    "a = 10<br/>\n",
    "'пример третьей конструкции<br/>\n",
    "if a = 10 then<br/>\n",
    "&nbsp;&nbsp;&nbsp;&nbsp;MsgBox \"a = 10\"<br/>\n",
    "elseif a = 20 then<br/>\n",
    "&nbsp;&nbsp;&nbsp;&nbsp;MsgBox \"a = 20\"<br/>\n",
    "elseif a = 40.5 then<br/>\n",
    "&nbsp;&nbsp;&nbsp;&nbsp;MsgBox \"a = 40,5\"<br/>\n",
    "else<br/>\n",
    "&nbsp;&nbsp;&nbsp;&nbsp;MsgBox \"совпадений не найдено\"<br/>\n",
    "End if<br/>\n",
    "</div><br/>"
   ]
  },
  {
   "cell_type": "code",
   "execution_count": null,
   "metadata": {},
   "outputs": [],
   "source": []
  }
 ],
 "metadata": {
  "kernelspec": {
   "display_name": "Julia 1.5.3",
   "language": "julia",
   "name": "julia-1.5"
  },
  "language_info": {
   "file_extension": ".jl",
   "mimetype": "application/julia",
   "name": "julia",
   "version": "1.5.3"
  }
 },
 "nbformat": 4,
 "nbformat_minor": 4
}
