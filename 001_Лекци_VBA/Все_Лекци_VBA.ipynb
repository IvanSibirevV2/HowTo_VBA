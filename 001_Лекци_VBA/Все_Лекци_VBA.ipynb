{
 "cells": [
  {
   "cell_type": "markdown",
   "metadata": {},
   "source": [
    "# VisualBasicScript\n",
    "# Оглавление\n",
    "<a name=\"target_2021_01_28_20_22\"></a>\n",
    "\n",
    "- <a href=\"#target_2021_01_28_20_54\">Литература</a><br/>\n",
    "- <a href=\"#target_2021_01_28_20_57\">О главном</a><br/>\n",
    "- <a href=\"#target_2021_01_28_20_31\">MsgBox</a><br/>\n",
    "- <a href=\"#target_2021_01_28_20_37\">The if (Select case)</a><br/>\n",
    "- <a href=\"#target_2021_01_28_20_39\">Функции и процедуры</a><br/>\n",
    "- <a href=\"#target_2021_01_28_20_41\">Циклы</a><br/>\n",
    "- <a href=\"#target_2021_01_28_20_44\">Массивы</a><br/>\n",
    "- 0<br/>\n",
    "<a href=\"#target_2021_01_28_20_22\">$\\Uparrow\\Uparrow\\Uparrow\\Uparrow$К оглавлению$\\Uparrow\\Uparrow\\Uparrow\\Uparrow$</a>\n",
    "\n",
    "<!--\n",
    "Якорь\n",
    "<a name=\"target_2021_01_28_20_57\"></a>\n",
    "Прыжок\n",
    "<a href=\"#target_2021_01_28_20_57\">О главном</a>\n",
    "//////////////////////////////////////////////////////////////////////////////////////\n",
    "Якорь\n",
    "<a name=\"target_2021_01_28_20_22\"></a>\n",
    "Прыжок\n",
    "<a href=\"#target_2021_01_28_20_22\">Перейти к оглавлению</a>\n",
    "-->"
   ]
  },
  {
   "cell_type": "markdown",
   "metadata": {},
   "source": [
    "# Литература:\n",
    "<a name=\"target_2021_01_28_20_54\"></a>\n",
    "#### <a href=\"#target_2021_01_28_20_22\">$\\Uparrow\\Uparrow\\Uparrow\\Uparrow$К оглавлению$\\Uparrow\\Uparrow\\Uparrow\\Uparrow$</a>\n",
    "\n",
    "- <a href=\"http://vbhack.ru/page/3\">vbhack.ru [1-3 уроки]</a><br/>\n",
    "- <a href=\"http://vbhack.ru/page/2\">vbhack.ru [3-11 уроки]</a><br/>\n",
    "- <a href=\"http://vbhack.ru/page/1\">vbhack.ru [12-18 уроки]</a><br/>\n",
    "\n"
   ]
  },
  {
   "cell_type": "markdown",
   "metadata": {},
   "source": [
    "# О главном\n",
    "<a name=\"target_2021_01_28_20_57\"></a>\n",
    "#### <a href=\"#target_2021_01_28_20_22\">$\\Uparrow\\Uparrow\\Uparrow\\Uparrow$К оглавлению$\\Uparrow\\Uparrow\\Uparrow\\Uparrow$</a>\n",
    "Итак, это движок скриптов основаных OC.Windows и ЯП.VisualBasic.<br/>\n",
    "Кодить можно в файлах $*$.vbs. <br/>\n",
    "Кодить можно в <a href=\"https://notepad-plus-plus.org/downloads/\">Notepad++</a><br/>\n",
    "Горячие клавиши \n",
    "- **Ctrl+S** - Сохранить <br/>\n",
    "- **F5** - Запустить, только не забудте указать что <br/>\n",
    "\n",
    "**Notepad++** — это универсальный редактор текстовых файлов, который способен распознавать синтаксисы большого числа языков программирования. Датируется 2003 годом. На нем воросло не одно поколение Web программистов. Де-факто **N++** — это стандарт, за которым пытаются угналься **блокнот**, **WordPad**, **Visual Studio Code** и многие другие легковесные редакторы. <br/>\n",
    "Visual Studio Code - хоть и навороченный, но слишком нестабильно работает, что удручает.<br/>\n",
    "**N++** — также позволяет писать и запускать программные коды за счет запуска программных кодов через **CMD (F5)**.<br/>\n",
    "По этому, **N++** может оказаться проще и понятнее чем редактор питона или любого другого языка (главное предварительно файл скрипта \"открыть с помощью/$[$Ваш интерпритатор$]$(использовать всегда при запуске файла)\").<br/>\n",
    "\n",
    "Теперь о **VBA**\n",
    "\n",
    "- Rem - комментарий<br/>\n",
    "- ' - комментарий<br/>\n",
    "- \" - кавычка<br/>\n",
    "- Dim a 'Создание переменных<br/>\n",
    "- vbCrLf - спец символ перехода на новую строку<br/>\n",
    "- vbTab - спец символ отступа<br/>"
   ]
  },
  {
   "cell_type": "markdown",
   "metadata": {},
   "source": [
    "# MsgBox\n",
    "<a name=\"target_2021_01_28_20_31\"></a>\n",
    "<a href=\"#target_2021_01_28_20_22\">$\\Uparrow\\Uparrow\\Uparrow\\Uparrow$К оглавлению$\\Uparrow\\Uparrow\\Uparrow\\Uparrow$</a>\n",
    "- MsgBox  стандартный вывод сообщений<br/>\n",
    "\n",
    "<div style=\"background: #ddffdd\">\n",
    "Dim a, b, c, d<br/>\n",
    "a = 10<br/>\n",
    "b = 20<br/>\n",
    "c = 40<br/>\n",
    "d = \"Привет мир\"<br/>\n",
    "MsgBox a:MsgBox b:MsgBox c:MsgBox d<br/>\n",
    "'''''''''''''''''''''''''''''''''''''''\n",
    "MsgBox d<br/>\n",
    "MsgBox a<br/>\n",
    "MsgBox b<br/>\n",
    "MsgBox c<br/>\n",
    "MsgBox d<br/>\n",
    "    </div>"
   ]
  },
  {
   "cell_type": "markdown",
   "metadata": {},
   "source": [
    "- MsgBox навороченный вывод сообщений<br/> \n",
    "- vbCrLf - спец символ перехода на новую строку<br/>\n",
    "- vbTab - спец символ отступа<br/>\n",
    "\n",
    "<div style=\"background: #ddffdd\">\n",
    "MsgBox \"Привет мир\"<br/>\n",
    "MsgBox _<br/>\n",
    "&nbsp;&nbsp;&nbsp;&nbsp;\"Привет мир\" & vbCrLf &_<br/>\n",
    "&nbsp;&nbsp;&nbsp;&nbsp;\"Символом <_> переношу инструкции на другую строку\"& vbCrLf & _<br/>\n",
    "&nbsp;&nbsp;&nbsp;&nbsp;\" \"\"А теперь экранируем кавычки\"\" \"& vbCrLf & _<br/>\n",
    "\"!!!\"&vbTab&\"!!!\"<br/>\n",
    "</div>"
   ]
  },
  {
   "cell_type": "markdown",
   "metadata": {},
   "source": [
    "# The if\n",
    "<a name=\"target_2021_01_28_20_37\"></a>\n",
    "<a href=\"#target_2021_01_28_20_22\">$\\Uparrow\\Uparrow\\Uparrow\\Uparrow$К оглавлению$\\Uparrow\\Uparrow\\Uparrow\\Uparrow$</a>\n",
    "- Время ветвлений<br/>\n",
    "\n",
    "<div style=\"background: #ddffdd\">\n",
    "Dim a<br/>\n",
    "a = 10<br/>\n",
    "if a = 10 then MsgBox \"a = 10\"<br/>    \n",
    "</div><br/>\n",
    "\n",
    "<div style=\"background: #ddffdd\">\n",
    "Dim a<br/>\n",
    "a = 20<br/>\n",
    "if a = 10 then<br/>\n",
    "&nbsp;&nbsp;&nbsp;&nbsp;MsgBox \"a = 10\"<br/>\n",
    "else<br/>\n",
    "&nbsp;&nbsp;&nbsp;&nbsp;MsgBox \"a != 10\"<br/>\n",
    "end if<br/>\n",
    "</div><br/>\n",
    "\n",
    "<div style=\"background: #ddffdd\">\n",
    "Dim a<br/>\n",
    "a = 10<br/>\n",
    "'пример третьей конструкции<br/>\n",
    "if a = 10 then<br/>\n",
    "&nbsp;&nbsp;&nbsp;&nbsp;MsgBox \"a = 10\"<br/>\n",
    "elseif a = 20 then<br/>\n",
    "&nbsp;&nbsp;&nbsp;&nbsp;MsgBox \"a = 20\"<br/>\n",
    "elseif a = 40.5 then<br/>\n",
    "&nbsp;&nbsp;&nbsp;&nbsp;MsgBox \"a = 40,5\"<br/>\n",
    "else<br/>\n",
    "&nbsp;&nbsp;&nbsp;&nbsp;MsgBox \"совпадений не найдено\"<br/>\n",
    "End if<br/>\n",
    "</div>"
   ]
  },
  {
   "cell_type": "markdown",
   "metadata": {},
   "source": [
    "- Select case и этим все сказано<br/>\n",
    "\n",
    "<div style=\"background: #ddffdd\">\n",
    "Dim a<br/>\n",
    "a = 11<br/>\n",
    "Select case a<br/>\n",
    "case 3 & b = \"b = 3\"<br/>\n",
    "case 10 & b = \"b = 10\"<br/>\n",
    "case else <br/>\n",
    "&nbsp;&nbsp;&nbsp;&nbsp; b = \"b = \" & a<br/>\n",
    "End Select<br/>\n",
    "MsgBox b<br/>\n",
    "</div><br/>"
   ]
  },
  {
   "cell_type": "markdown",
   "metadata": {},
   "source": [
    "# Функции и процедуры\n",
    "<a name=\"target_2021_01_28_20_39\"></a>\n",
    "<a href=\"#target_2021_01_28_20_22\">$\\Uparrow\\Uparrow\\Uparrow\\Uparrow$К оглавлению$\\Uparrow\\Uparrow\\Uparrow\\Uparrow$</a>\n",
    "- Процедуры - вообще не подразумеваюн возвращаемых значений и использования как лямбда выражений<br/>\n",
    "\n",
    "<div style=\"background: #ddffdd\">\n",
    "Sub my_MsgBox(str)<br/>\n",
    "&nbsp;&nbsp;&nbsp;&nbsp; MsgBox \"Как написать процедуру\"&vbCrLf&str<br/>\n",
    "End Sub<br/>    \n",
    "</div><br/>\n",
    "\n",
    "- фунуции.<br/>\n",
    "\n",
    "<div style=\"background: #ddffdd\">\n",
    "Function fun_name(a, b)<br/>\n",
    "&nbsp;&nbsp;&nbsp;&nbsp; Dim rezult<br/>\n",
    "&nbsp;&nbsp;&nbsp;&nbsp; rezult = a+b<br/>\n",
    "&nbsp;&nbsp;&nbsp;&nbsp; fun_name = rezult<br/>\n",
    "&nbsp;&nbsp;&nbsp;&nbsp; 'присваиваем значение функцие, которое она нам вернёт<br/>\n",
    "End Function<br/><br/>\n",
    "MsgBox fun_name(5,110)<br/>\n",
    "MsgBox fun_name(15,16)<br/>\n",
    "MsgBox fun_name(25,15)<br/>\n",
    "</div><br/>\n",
    "\n",
    "<div style=\"background: #ddffdd\">\n",
    "Sub sub_name(a, b)<br/>\n",
    "&nbsp;&nbsp;&nbsp;&nbsp; Dim rezult<br/>\n",
    "&nbsp;&nbsp;&nbsp;&nbsp; rezult = a+b<br/>\n",
    "&nbsp;&nbsp;&nbsp;&nbsp; MsgBox rezult<br/>\n",
    "End Sub<br/><br/>\n",
    "Call sub_name(5,110)<br/>\n",
    "Call sub_name(15,16)<br/>\n",
    "Call sub_name(25,15)<br/>\n",
    "sub_name 25,1<br/>\n",
    "</div><br/>\n",
    "\n",
    "- фунуции и процедуры скриптов *.vbs не подразумевают существования лямбда выражений. В более поздней версии технологий есть заплатки для лямбда-выражений для макросов VBA-Excel и VBA-VisualStudio-2019<br/>"
   ]
  },
  {
   "cell_type": "markdown",
   "metadata": {},
   "source": [
    "# Циклы\n",
    "<a name=\"target_2021_01_28_20_41\"></a>\n",
    "<a href=\"#target_2021_01_28_20_22\">$\\Uparrow\\Uparrow\\Uparrow\\Uparrow$К оглавлению$\\Uparrow\\Uparrow\\Uparrow\\Uparrow$</a>\n",
    "- Циклы 1<br/>\n",
    "\n",
    "<div style=\"background: #ddffdd\">\n",
    "i = 0<br/>\n",
    "Do While (i $<$ 3)<br/>\n",
    "&nbsp;&nbsp;&nbsp;&nbsp; List = list & i & vbCrlf<br/>\n",
    "&nbsp;&nbsp;&nbsp;&nbsp; i = i + 1<br/>\n",
    "loop<br/>\n",
    "MsgBox List<br/>\n",
    "</div>"
   ]
  },
  {
   "cell_type": "markdown",
   "metadata": {},
   "source": [
    "- Циклы 2<br/>\n",
    "\n",
    "<div style=\"background: #ddffdd\">\n",
    "i = 0<br/>\n",
    "Do<br/>\n",
    "&nbsp;&nbsp;&nbsp;&nbsp; List = list & i & vbCrlf<br/>\n",
    "&nbsp;&nbsp;&nbsp;&nbsp; i = i + 1<br/>\n",
    "loop While (i $<$ 3)<br/>\n",
    "MsgBox List<br/>\n",
    "</div>"
   ]
  },
  {
   "cell_type": "markdown",
   "metadata": {},
   "source": [
    "- Циклы 3<br/>\n",
    "\n",
    "<div style=\"background: #ddffdd\">\n",
    "i = 0<br/>\n",
    "While i$<$3<br/>\n",
    "&nbsp;&nbsp;&nbsp;&nbsp; List = list & i & vbCrlf<br/>\n",
    "&nbsp;&nbsp;&nbsp;&nbsp; i = i + 1<br/>\n",
    "Wend<br/>\n",
    "MsgBox List<br/>\n",
    "</div>"
   ]
  },
  {
   "cell_type": "markdown",
   "metadata": {},
   "source": [
    "- Циклы 4<br/>\n",
    "\n",
    "<div style=\"background: #ddffdd\">\n",
    "i=0<br/>\n",
    "While Not i = 10<br/>\n",
    "&nbsp;&nbsp;&nbsp;&nbsp;List2 = List2 & i & vbCrlf<br/>\n",
    "&nbsp;&nbsp;&nbsp;&nbsp;i = i + 1<br/>\n",
    "Wend<br/>\n",
    "MsgBox List2<br/>\n",
    "</div>"
   ]
  },
  {
   "cell_type": "markdown",
   "metadata": {},
   "source": [
    "- Циклы 5<br/>\n",
    "\n",
    "<div style=\"background: #ddffdd\">\n",
    "i = 0<br/>\n",
    "Do<br/>\n",
    "&nbsp;&nbsp;&nbsp;&nbsp; MsgBox \"Пример №4: \" & i<br/>\n",
    "&nbsp;&nbsp;&nbsp;&nbsp; i = i + 1<br/>\n",
    "loop  Until (i>3)<br/>\n",
    "</div>"
   ]
  },
  {
   "cell_type": "markdown",
   "metadata": {},
   "source": [
    "- Циклы 6<br/>\n",
    "\n",
    "<div style=\"background: #ddffdd\">\n",
    "i = 0<br/>\n",
    "Do Until (i$>$3)<br/>\n",
    "&nbsp;&nbsp;&nbsp;&nbsp; MsgBox \"Пример №3: \" & i<br/>\n",
    "&nbsp;&nbsp;&nbsp;&nbsp; i = i + 1<br/>\n",
    "&nbsp;&nbsp;&nbsp;&nbsp; If i = 2 Then Exit Do<br/>\n",
    "loop<br/>\n",
    "</div>"
   ]
  },
  {
   "cell_type": "markdown",
   "metadata": {},
   "source": [
    "- Циклы 7<br/>\n",
    "\n",
    "<div style=\"background: #ddffdd\">\n",
    "dim arr(5)<br/>\n",
    "<br/>\n",
    "arr(0) = \"ПонедельниК\"<br/>\n",
    "arr(1) = \"Вторник\"<br/>\n",
    "arr(2) = \"Среда\"<br/>\n",
    "arr(3) = \"Четверг\"<br/>\n",
    "arr(4) = \"Пятница\"<br/>\n",
    "arr(5) = \"Суббота\"<br/>\n",
    "<br/>\n",
    "for each index in arr<br/>\n",
    "&nbsp;&nbsp;&nbsp;&nbsp; List = List & index & vbCrLf<br/>\n",
    "next<br/>\n",
    "MsgBox List<br/>\n",
    "</div>"
   ]
  },
  {
   "cell_type": "markdown",
   "metadata": {},
   "source": [
    "# Массивы\n",
    "<a name=\"target_2021_01_28_20_44\"></a>\n",
    "<a href=\"#target_2021_01_28_20_22\">$\\Uparrow\\Uparrow\\Uparrow\\Uparrow$К оглавлению$\\Uparrow\\Uparrow\\Uparrow\\Uparrow$</a>\n",
    "- Массивы 1<br/>\n",
    "\n",
    "<div style=\"background: #ddffdd\">\n",
    "dim arr(2)<br/>\n",
    "<br/>\n",
    "arr(0) = 100<br/>\n",
    "arr(1) = \"строка\"<br/>\n",
    "arr(2) = #12/05/2015#<br/>\n",
    "<br/>\n",
    "MsgBox _<br/>\n",
    "&nbsp;&nbsp;&nbsp;&nbsp; arr(0) & VbCrLf &_<br/>\n",
    "&nbsp;&nbsp;&nbsp;&nbsp; arr(1) & VbCrLf &_<br/>\n",
    "&nbsp;&nbsp;&nbsp;&nbsp; arr(2) & VbCrLf &_<br/>\n",
    "\"!!!\"<br/>\n",
    "</div><br/>"
   ]
  },
  {
   "cell_type": "markdown",
   "metadata": {},
   "source": [
    "- Массивы 2<br/>\n",
    "\n",
    "<div style=\"background: #ddffdd\">\n",
    "dim arr(2,3)<br/>\n",
    "<br/>\n",
    "arr(0,0) = \"00\"<br/>\n",
    "arr(0,1) = \"01\"<br/>\n",
    "arr(0,2) = \"02\"<br/>\n",
    "arr(0,3) = \"03\"<br/>\n",
    "<br/>\n",
    "arr(1,0) = \"10\"<br/>\n",
    "arr(1,1) = \"11\"<br/>\n",
    "arr(1,2) = \"12\"<br/>\n",
    "arr(1,3) = \"13\"<br/>\n",
    "<br/>\n",
    "arr(2,0) = \"20\"<br/>\n",
    "arr(2,1) = \"21\"<br/>\n",
    "arr(2,2) = \"22\"<br/>\n",
    "arr(2,3) = \"23\"<br/>\n",
    "<br/>\n",
    "MsgBox _<br/>\n",
    "&nbsp;&nbsp;&nbsp;&nbsp; arr(0,0) & vbTab & arr(0,1) & vbTab & arr(0,2) & vbTab &arr(0,3) & VbCrLf &_<br/>\n",
    "&nbsp;&nbsp;&nbsp;&nbsp; arr(1,0) & vbTab & arr(1,1) & vbTab & arr(1,2) & vbTab &arr(1,3) & VbCrLf &_<br/>\n",
    "&nbsp;&nbsp;&nbsp;&nbsp; arr(2,0) & vbTab & arr(2,1) & vbTab & arr(2,2) & vbTab &arr(2,3) & VbCrLf &_<br/>\n",
    "\"!!!\"<br/>\n",
    "</div><br/>"
   ]
  },
  {
   "cell_type": "markdown",
   "metadata": {},
   "source": [
    "- Массивы 3<br/>\n",
    "\n",
    "<div style=\"background: #ddffdd\">\n",
    "List=\"динамический массив\" & vbCrlf<br/>\n",
    "dim dyn_name()<br/>\n",
    "i = 0<br/>\n",
    "Do<br/>\n",
    "&nbsp;&nbsp;&nbsp;&nbsp; 'перезаписываем размерность массива<br/>\n",
    "&nbsp;&nbsp;&nbsp;&nbsp; 'с сохранением имеющийся информации<br/>\n",
    "&nbsp;&nbsp;&nbsp;&nbsp; Redim Preserve dyn_name(i)<br/>\n",
    "&nbsp;&nbsp;&nbsp;&nbsp; 'присваиваем значение каждому элементу массива<br/>\n",
    "&nbsp;&nbsp;&nbsp;&nbsp; dyn_name(i) = i<br/>\n",
    "&nbsp;&nbsp;&nbsp;&nbsp; List=List & i &\"=\"& dyn_name(i) & vbCrlf<br/>\n",
    "&nbsp;&nbsp;&nbsp;&nbsp; i = i + 1<br/>\n",
    "loop  Until (i$>$20)<br/>\n",
    "MsgBox List<br/>\n",
    "</div><br/>"
   ]
  },
  {
   "cell_type": "markdown",
   "metadata": {},
   "source": [
    "- Массивы 4<br/>\n",
    "- LBound(arr) - нахождение минимального индекса массива\n",
    "- UBound(arr) - нахождение максимального индекса массива\n",
    "\n",
    "<div style=\"background: #ddffdd\">\n",
    "dim arr(4)<br/>\n",
    "<br/>\n",
    "arr(0) = \"$<-0->$\"<br/>\n",
    "arr(1) = \"$<-1->$\"<br/>\n",
    "arr(2) = \"$<-2->$\"<br/>\n",
    "arr(3) = \"$<-3->$\"<br/>\n",
    "arr(4) = \"$<-4->$\"<br/>\n",
    "<br/>\n",
    "MsgBox _<br/>\n",
    "&nbsp;&nbsp;&nbsp;&nbsp; \"arr={\"&_<br/>\n",
    "&nbsp;&nbsp;&nbsp;&nbsp; arr(0) &\";\"&_<br/>\n",
    "&nbsp;&nbsp;&nbsp;&nbsp; arr(1) &\";\"&_<br/>\n",
    "&nbsp;&nbsp;&nbsp;&nbsp; arr(2) &\";\"&_<br/>\n",
    "&nbsp;&nbsp;&nbsp;&nbsp; arr(3) &\";\"&_<br/>\n",
    "&nbsp;&nbsp;&nbsp;&nbsp; arr(4) &\";\"&_<br/>\n",
    "&nbsp;&nbsp;&nbsp;&nbsp; \"};\"& VbCrLf &_<br/>\n",
    "&nbsp;&nbsp;&nbsp;&nbsp; \"LBound(arr)=\"&LBound(arr)& VbCrLf &_<br/>\n",
    "&nbsp;&nbsp;&nbsp;&nbsp; \"UBound(arr)=\"&UBound(arr)& VbCrLf &_<br/>\n",
    "&nbsp;&nbsp;&nbsp;&nbsp; \"arr(LBound(arr))=\"&arr(LBound(arr))& VbCrLf &_<br/>\n",
    "&nbsp;&nbsp;&nbsp;&nbsp; \"arr(UBound(arr))=\"&arr(UBound(arr))& VbCrLf &_<br/>\n",
    "\"!!!\"<br/>\n",
    "</div>"
   ]
  },
  {
   "cell_type": "markdown",
   "metadata": {},
   "source": [
    "- Массивы 5<br/>\n",
    "Массив внутри массива...<br/>\n",
    "\n",
    "<div style=\"background: #ddffdd\">\n",
    "dim arr_name<br/>\n",
    "arr_name = Array(Array(10,\"строка\",#12/05/2015#,54),Array(11,3,15,44),Array(18,37,16,34)) 'задаём значения для элементов массива<br/>\n",
    "MsgBox arr_name(0)(2) & vbCrlf & arr_name(1)(2) & vbCrlf & arr_name(2)(2)<br/>\n",
    "</div>"
   ]
  },
  {
   "cell_type": "markdown",
   "metadata": {},
   "source": [
    "- Массивы $/$ Фильтры 1<br/>\n",
    "\n",
    "<div style=\"background: #ddffdd\">\n",
    "arr = Array(\"ПонедельниК\",\"Вторник\",\"Среда\",\"Четверг\",\"Пятница\",\"Суббота\")<br/>\n",
    "Arr_Filter = Filter(arr, \"ик\", false, 1)<br/>\n",
    "<br/>\n",
    "Arr_Filter = Filter(arr, \"ик\", false, 1)<br/>\n",
    "<br/>\n",
    "for each index in Arr_Filter<br/>\n",
    "&nbsp;&nbsp;&nbsp;&nbsp; List = List & index & vbCrLf<br/>\n",
    "next<br/>\n",
    "MsgBox List<br/>\n",
    "</div><br/>\n",
    "\n",
    "<div style=\"background: #ddffdd\">\n",
    "a=Array(\"Sunday\",\"Monday\",\"Tuesday\",\"Wednesday\",\"Thursday\",\"Friday\",\"Saturday\")<br/>\n",
    "b=Filter(a,\"S\",True,1)<br/>\n",
    "<br/>\n",
    "for each index in b<br/>\n",
    "&nbsp;&nbsp;&nbsp;&nbsp; List = List & index & vbCrLf<br/>\n",
    "next<br/>\n",
    "MsgBox List<br/>\n",
    "</div>"
   ]
  },
  {
   "cell_type": "markdown",
   "metadata": {},
   "source": [
    "- Join и Split\n",
    "- Join - объединяет массив, в текст, добовляя разделительный символ\n",
    "\n",
    "<div style=\"background: #ddffdd\">\n",
    "arr = Array(\"ПонедельниК\",\"Вторник\",\"Среда\",\"Четверг\",\"Пятница\",\"Суббота\")<br/>\n",
    "Arr_Join = Join(arr, \",\")<br/>\n",
    "MsgBox Arr_Join<br/>\n",
    "</div>\n",
    "http://vbhack.ru/uroki-vbscript/urok-vbscript-n5-massivy-i-fnkcii-dlya-raboty-s.html\n",
    "https://www.w3schools.com/asp/func_join.asp"
   ]
  },
  {
   "cell_type": "code",
   "execution_count": 3,
   "metadata": {},
   "outputs": [
    {
     "ename": "LoadError",
     "evalue": "LoadError: UndefVarError: @magic not defined\nin expression starting at In[3]:1",
     "output_type": "error",
     "traceback": [
      "LoadError: UndefVarError: @magic not defined\nin expression starting at In[3]:1",
      "",
      "Stacktrace:",
      " [1] top-level scope",
      " [2] include_string(::Function, ::Module, ::String, ::String) at .\\loading.jl:1091"
     ]
    }
   ],
   "source": [
    "@magic"
   ]
  },
  {
   "cell_type": "markdown",
   "metadata": {},
   "source": [
    "[Section title](MyGreatHeading)\n",
    "\n",
    "<h1 id=\"id20210128_0817\" onclick ='\n",
    "function () {\t\n",
    "    console.log(document.getElementById(\"id20210128_0808\"));\n",
    "};\n",
    "'>Чайники</h1>\n",
    "<div id=\"id20210128_0808\" style=\"display: block;border: 1px solid;padding: 50px;\">\n",
    "Этот рассказ про то, как я однажды пошел в лес за грибами и нашел волшебный чайник.\n",
    "</div>\n",
    "\n",
    "<script defer>\n",
    "document.getElementById(\"id20210128_0817\").onclick =function () {\t\n",
    "\t\n",
    "\t_id=\"id20210128_0808\";\n",
    "\t_TurnTargetDiv=document.getElementById(_id);\n",
    "\tconsole.log(_TurnTargetDiv);\n",
    "\tconsole.log(_TurnTargetDiv.style.display);\n",
    "\t\n",
    "\tif(_TurnTargetDiv.style.display==\"block\")\n",
    "\t{_TurnTargetDiv.style.display=\"none\";}\n",
    "\telse{_TurnTargetDiv.style.display=\"block\";}\n",
    "\t\n",
    "};\n",
    "</script>"
   ]
  },
  {
   "cell_type": "markdown",
   "metadata": {},
   "source": [
    "https://medium.com/analytics-vidhya/the-ultimate-markdown-guide-for-jupyter-notebook-d5e5abf728fd"
   ]
  },
  {
   "cell_type": "code",
   "execution_count": null,
   "metadata": {},
   "outputs": [],
   "source": []
  }
 ],
 "metadata": {
  "kernelspec": {
   "display_name": "Julia 1.5.3",
   "language": "julia",
   "name": "julia-1.5"
  },
  "language_info": {
   "file_extension": ".jl",
   "mimetype": "application/julia",
   "name": "julia",
   "version": "1.5.3"
  }
 },
 "nbformat": 4,
 "nbformat_minor": 4
}
